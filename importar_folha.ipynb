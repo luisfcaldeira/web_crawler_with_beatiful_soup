{
 "cells": [
  {
   "cell_type": "code",
   "execution_count": 2,
   "metadata": {},
   "outputs": [],
   "source": [
    "import pandas as pd\n",
    "from complex_domain.scrap_news.application.services.urls_app_service import UrlsAppService\n",
    "from complex_domain.scrap_news.application.services.urls_targets_app_service import UrlsTargetsAppService"
   ]
  },
  {
   "cell_type": "code",
   "execution_count": 3,
   "metadata": {},
   "outputs": [
    {
     "data": {
      "text/html": [
       "<div>\n",
       "<style scoped>\n",
       "    .dataframe tbody tr th:only-of-type {\n",
       "        vertical-align: middle;\n",
       "    }\n",
       "\n",
       "    .dataframe tbody tr th {\n",
       "        vertical-align: top;\n",
       "    }\n",
       "\n",
       "    .dataframe thead th {\n",
       "        text-align: right;\n",
       "    }\n",
       "</style>\n",
       "<table border=\"1\" class=\"dataframe\">\n",
       "  <thead>\n",
       "    <tr style=\"text-align: right;\">\n",
       "      <th></th>\n",
       "      <th>date</th>\n",
       "      <th>title</th>\n",
       "      <th>sobre_petrobras_diretamente</th>\n",
       "      <th>indice</th>\n",
       "      <th>comparativo</th>\n",
       "      <th>link</th>\n",
       "      <th>coef</th>\n",
       "      <th>coef_anterior</th>\n",
       "    </tr>\n",
       "  </thead>\n",
       "  <tbody>\n",
       "    <tr>\n",
       "      <th>0</th>\n",
       "      <td>2016-05-12</td>\n",
       "      <td>Após dois cortes, Petrobras eleva preços da ga...</td>\n",
       "      <td>Relacionado à Petrobrás</td>\n",
       "      <td>-1</td>\n",
       "      <td>-0.598273</td>\n",
       "      <td>http://www1.folha.uol.com.br/mercado/2016/12/1...</td>\n",
       "      <td>-0,6899999999999992</td>\n",
       "      <td>-0,09172727272727282</td>\n",
       "    </tr>\n",
       "    <tr>\n",
       "      <th>1</th>\n",
       "      <td>2016-05-12</td>\n",
       "      <td>Liminar da Justiça de Sergipe suspende venda d...</td>\n",
       "      <td>Relacionado ao mercado de ações</td>\n",
       "      <td>-1</td>\n",
       "      <td>-0.598273</td>\n",
       "      <td>http://www1.folha.uol.com.br/mercado/2016/12/1...</td>\n",
       "      <td>-0,6899999999999992</td>\n",
       "      <td>-0,09172727272727282</td>\n",
       "    </tr>\n",
       "    <tr>\n",
       "      <th>2</th>\n",
       "      <td>2016-05-12</td>\n",
       "      <td>Dólar recua mais de 1% após protestos pouparem...</td>\n",
       "      <td>Relacionado ao mercado de ações</td>\n",
       "      <td>-1</td>\n",
       "      <td>-0.598273</td>\n",
       "      <td>http://www1.folha.uol.com.br/mercado/2016/12/1...</td>\n",
       "      <td>-0,6899999999999992</td>\n",
       "      <td>-0,09172727272727282</td>\n",
       "    </tr>\n",
       "    <tr>\n",
       "      <th>3</th>\n",
       "      <td>2016-04-12</td>\n",
       "      <td>Metade das empresas não tem caixa para pagar d...</td>\n",
       "      <td>Não relacionado ou não relacionado diretamente</td>\n",
       "      <td>1</td>\n",
       "      <td>0.320182</td>\n",
       "      <td>http://www1.folha.uol.com.br/mercado/2016/12/1...</td>\n",
       "      <td>0,2699999999999995</td>\n",
       "      <td>-0,05018181818181821</td>\n",
       "    </tr>\n",
       "    <tr>\n",
       "      <th>4</th>\n",
       "      <td>2016-05-11</td>\n",
       "      <td>Governo busca executivo experiente para o coma...</td>\n",
       "      <td>Não relacionado ou não relacionado diretamente</td>\n",
       "      <td>-1</td>\n",
       "      <td>-0.297909</td>\n",
       "      <td>http://www1.folha.uol.com.br/mercado/2016/11/1...</td>\n",
       "      <td>-0,3799999999999998</td>\n",
       "      <td>-0,08209090909090919</td>\n",
       "    </tr>\n",
       "  </tbody>\n",
       "</table>\n",
       "</div>"
      ],
      "text/plain": [
       "        date                                              title  \\\n",
       "0 2016-05-12  Após dois cortes, Petrobras eleva preços da ga...   \n",
       "1 2016-05-12  Liminar da Justiça de Sergipe suspende venda d...   \n",
       "2 2016-05-12  Dólar recua mais de 1% após protestos pouparem...   \n",
       "3 2016-04-12  Metade das empresas não tem caixa para pagar d...   \n",
       "4 2016-05-11  Governo busca executivo experiente para o coma...   \n",
       "\n",
       "                      sobre_petrobras_diretamente  indice  comparativo  \\\n",
       "0                         Relacionado à Petrobrás      -1    -0.598273   \n",
       "1                 Relacionado ao mercado de ações      -1    -0.598273   \n",
       "2                 Relacionado ao mercado de ações      -1    -0.598273   \n",
       "3  Não relacionado ou não relacionado diretamente       1     0.320182   \n",
       "4  Não relacionado ou não relacionado diretamente      -1    -0.297909   \n",
       "\n",
       "                                                link                 coef  \\\n",
       "0  http://www1.folha.uol.com.br/mercado/2016/12/1...  -0,6899999999999992   \n",
       "1  http://www1.folha.uol.com.br/mercado/2016/12/1...  -0,6899999999999992   \n",
       "2  http://www1.folha.uol.com.br/mercado/2016/12/1...  -0,6899999999999992   \n",
       "3  http://www1.folha.uol.com.br/mercado/2016/12/1...   0,2699999999999995   \n",
       "4  http://www1.folha.uol.com.br/mercado/2016/11/1...  -0,3799999999999998   \n",
       "\n",
       "          coef_anterior  \n",
       "0  -0,09172727272727282  \n",
       "1  -0,09172727272727282  \n",
       "2  -0,09172727272727282  \n",
       "3  -0,05018181818181821  \n",
       "4  -0,08209090909090919  "
      ]
     },
     "execution_count": 3,
     "metadata": {},
     "output_type": "execute_result"
    }
   ],
   "source": [
    "df = pd.read_excel('dados_etiquetados.xlsx')\n",
    "df.head()"
   ]
  },
  {
   "cell_type": "code",
   "execution_count": 4,
   "metadata": {},
   "outputs": [],
   "source": [
    "\n",
    "links = df.link.to_list()\n"
   ]
  },
  {
   "cell_type": "code",
   "execution_count": 5,
   "metadata": {},
   "outputs": [],
   "source": [
    "total = len(links)"
   ]
  },
  {
   "cell_type": "code",
   "execution_count": 6,
   "metadata": {},
   "outputs": [
    {
     "name": "stdout",
     "output_type": "stream",
     "text": [
      "total 237\n"
     ]
    }
   ],
   "source": [
    "print(f'total {total}')\n",
    "urls_app_service = UrlsAppService()\n",
    "urls_targets_app_service = UrlsTargetsAppService()\n",
    "urls_targets_app_service.add_new_target(\"www.folha.uol.com.br\")\n",
    "urls_targets_app_service.add_new_target(\"www.folha.com.br\")\n",
    "urls_targets_app_service.add_new_target(\"www1.folha.com.br\")\n",
    "urls_targets_app_service.add_new_target(\"www1.folha.uol.com.br\")"
   ]
  },
  {
   "cell_type": "code",
   "execution_count": 6,
   "metadata": {},
   "outputs": [
    {
     "name": "stdout",
     "output_type": "stream",
     "text": [
      "237 / 237\r"
     ]
    }
   ],
   "source": [
    "contador = 0\n",
    "for link in links:\n",
    "    contador += 1\n",
    "    print(contador, \"/\", total, end='\\r')\n",
    "    try:\n",
    "        urls_app_service.save_url(link)\n",
    "    except Exception as e:\n",
    "        print(f\"It was not possible to insert URL due a error.\\n :{e}\",  end='\\r')"
   ]
  }
 ],
 "metadata": {
  "kernelspec": {
   "display_name": "Python 3.8.0 ('venv': venv)",
   "language": "python",
   "name": "python3"
  },
  "language_info": {
   "codemirror_mode": {
    "name": "ipython",
    "version": 3
   },
   "file_extension": ".py",
   "mimetype": "text/x-python",
   "name": "python",
   "nbconvert_exporter": "python",
   "pygments_lexer": "ipython3",
   "version": "3.8.0"
  },
  "orig_nbformat": 4,
  "vscode": {
   "interpreter": {
    "hash": "9b33ae273fb6652e919a4633bdd0b9f88c8259848b98f99959c0726397c68693"
   }
  }
 },
 "nbformat": 4,
 "nbformat_minor": 2
}
